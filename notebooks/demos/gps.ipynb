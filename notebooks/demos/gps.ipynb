{
 "cells": [
  {
   "cell_type": "code",
   "execution_count": 4,
   "metadata": {
    "ExecuteTime": {
     "end_time": "2019-01-24T21:41:44.577642Z",
     "start_time": "2019-01-24T21:41:42.866257Z"
    },
    "code_folding": []
   },
   "outputs": [
    {
     "name": "stderr",
     "output_type": "stream",
     "text": [
      "C:\\Users\\calvi\\AppData\\Local\\Temp\\ipykernel_2672\\1051505780.py:9: DeprecationWarning: Importing display from IPython.core.display is deprecated since IPython 7.14, please import from IPython display\n",
      "  from IPython.core.display import display, HTML\n"
     ]
    }
   ],
   "source": [
    "# notebook setup\n",
    "import datetime as dt\n",
    "from io import StringIO\n",
    "import requests\n",
    "import os\n",
    "import sys\n",
    "\n",
    "from IPython.core.interactiveshell import InteractiveShell\n",
    "from IPython.core.display import display, HTML\n",
    "import numpy as np\n",
    "import pandas as pd\n",
    "from pathlib import Path\n",
    "stdout = sys.stdout\n",
    "p = Path().resolve().parents[1]\n",
    "sys.path.append(str(p))\n",
    "import gscap.gps as gps\n",
    "sys.stdout = stdout\n",
    "InteractiveShell.ast_node_interactivity = 'all'\n",
    "np.random.seed(42)"
   ]
  },
  {
   "cell_type": "markdown",
   "metadata": {},
   "source": [
    "## The GSCAP GPS scripts \n",
    "provide a number of  miscellaneous, clustering, and api wrapper methods. The main format of each call is a Pandas dataframe containing three columns: lat, lon, and ts like shown in the next cell."
   ]
  },
  {
   "cell_type": "code",
   "execution_count": 5,
   "metadata": {
    "ExecuteTime": {
     "end_time": "2019-01-24T21:41:45.072422Z",
     "start_time": "2019-01-24T21:41:44.604648Z"
    }
   },
   "outputs": [
    {
     "data": {
      "text/html": [
       "<div>\n",
       "<style scoped>\n",
       "    .dataframe tbody tr th:only-of-type {\n",
       "        vertical-align: middle;\n",
       "    }\n",
       "\n",
       "    .dataframe tbody tr th {\n",
       "        vertical-align: top;\n",
       "    }\n",
       "\n",
       "    .dataframe thead th {\n",
       "        text-align: right;\n",
       "    }\n",
       "</style>\n",
       "<table border=\"1\" class=\"dataframe\">\n",
       "  <thead>\n",
       "    <tr style=\"text-align: right;\">\n",
       "      <th></th>\n",
       "      <th>lat</th>\n",
       "      <th>lon</th>\n",
       "      <th>ts</th>\n",
       "    </tr>\n",
       "  </thead>\n",
       "  <tbody>\n",
       "    <tr>\n",
       "      <th>0</th>\n",
       "      <td>45.50473</td>\n",
       "      <td>-122.78290</td>\n",
       "      <td>2015-06-01 00:01:04.561</td>\n",
       "    </tr>\n",
       "    <tr>\n",
       "      <th>1</th>\n",
       "      <td>45.50473</td>\n",
       "      <td>-122.78290</td>\n",
       "      <td>2015-06-01 00:02:16.037</td>\n",
       "    </tr>\n",
       "    <tr>\n",
       "      <th>2</th>\n",
       "      <td>45.50471</td>\n",
       "      <td>-122.78284</td>\n",
       "      <td>2015-06-01 00:03:01.134</td>\n",
       "    </tr>\n",
       "    <tr>\n",
       "      <th>3</th>\n",
       "      <td>45.50471</td>\n",
       "      <td>-122.78284</td>\n",
       "      <td>2015-06-01 00:07:51.359</td>\n",
       "    </tr>\n",
       "    <tr>\n",
       "      <th>4</th>\n",
       "      <td>45.50469</td>\n",
       "      <td>-122.78291</td>\n",
       "      <td>2015-06-01 00:09:10.460</td>\n",
       "    </tr>\n",
       "  </tbody>\n",
       "</table>\n",
       "</div>"
      ],
      "text/plain": [
       "        lat        lon                      ts\n",
       "0  45.50473 -122.78290 2015-06-01 00:01:04.561\n",
       "1  45.50473 -122.78290 2015-06-01 00:02:16.037\n",
       "2  45.50471 -122.78284 2015-06-01 00:03:01.134\n",
       "3  45.50471 -122.78284 2015-06-01 00:07:51.359\n",
       "4  45.50469 -122.78291 2015-06-01 00:09:10.460"
      ]
     },
     "execution_count": 5,
     "metadata": {},
     "output_type": "execute_result"
    }
   ],
   "source": [
    "r = requests.get('https://raw.githubusercontent.com/UW-Creativ-Lab/gSCAP/master/notebooks/demos/some_data.csv')\n",
    "\n",
    "if r.ok:\n",
    "    sio = StringIO(str(r.content,'utf-8'))    \n",
    "    df = pd.read_csv(sio, parse_dates=['ts'])\n",
    "    df.head()\n",
    "    \n",
    "    sio.close()\n",
    "    del sio"
   ]
  },
  {
   "cell_type": "markdown",
   "metadata": {},
   "source": [
    "#### `resample_gps_intervals(records)`\n",
    "Currently, this method resamples at one-minute intervals taking the mean of each lat, long within the interval. The timestamp returned is the minute for which the sampling occurred."
   ]
  },
  {
   "cell_type": "code",
   "execution_count": 6,
   "metadata": {
    "ExecuteTime": {
     "end_time": "2019-01-24T21:41:47.265346Z",
     "start_time": "2019-01-24T21:41:46.771103Z"
    }
   },
   "outputs": [
    {
     "data": {
      "text/html": [
       "<div>\n",
       "<style scoped>\n",
       "    .dataframe tbody tr th:only-of-type {\n",
       "        vertical-align: middle;\n",
       "    }\n",
       "\n",
       "    .dataframe tbody tr th {\n",
       "        vertical-align: top;\n",
       "    }\n",
       "\n",
       "    .dataframe thead th {\n",
       "        text-align: right;\n",
       "    }\n",
       "</style>\n",
       "<table border=\"1\" class=\"dataframe\">\n",
       "  <thead>\n",
       "    <tr style=\"text-align: right;\">\n",
       "      <th></th>\n",
       "      <th>lat</th>\n",
       "      <th>lon</th>\n",
       "      <th>ts</th>\n",
       "    </tr>\n",
       "  </thead>\n",
       "  <tbody>\n",
       "    <tr>\n",
       "      <th>0</th>\n",
       "      <td>45.50473</td>\n",
       "      <td>-122.78290</td>\n",
       "      <td>2015-06-01 00:01:00</td>\n",
       "    </tr>\n",
       "    <tr>\n",
       "      <th>1</th>\n",
       "      <td>45.50473</td>\n",
       "      <td>-122.78290</td>\n",
       "      <td>2015-06-01 00:02:00</td>\n",
       "    </tr>\n",
       "    <tr>\n",
       "      <th>2</th>\n",
       "      <td>45.50471</td>\n",
       "      <td>-122.78284</td>\n",
       "      <td>2015-06-01 00:03:00</td>\n",
       "    </tr>\n",
       "    <tr>\n",
       "      <th>3</th>\n",
       "      <td>45.50471</td>\n",
       "      <td>-122.78284</td>\n",
       "      <td>2015-06-01 00:07:00</td>\n",
       "    </tr>\n",
       "    <tr>\n",
       "      <th>4</th>\n",
       "      <td>45.50469</td>\n",
       "      <td>-122.78291</td>\n",
       "      <td>2015-06-01 00:09:00</td>\n",
       "    </tr>\n",
       "  </tbody>\n",
       "</table>\n",
       "</div>"
      ],
      "text/plain": [
       "        lat        lon                  ts\n",
       "0  45.50473 -122.78290 2015-06-01 00:01:00\n",
       "1  45.50473 -122.78290 2015-06-01 00:02:00\n",
       "2  45.50471 -122.78284 2015-06-01 00:03:00\n",
       "3  45.50471 -122.78284 2015-06-01 00:07:00\n",
       "4  45.50469 -122.78291 2015-06-01 00:09:00"
      ]
     },
     "execution_count": 6,
     "metadata": {},
     "output_type": "execute_result"
    }
   ],
   "source": [
    "df = gps.resample_gps_intervals(df)\n",
    "df.head()"
   ]
  },
  {
   "cell_type": "markdown",
   "metadata": {},
   "source": [
    "#### `impute_stationary_coordinates(records, freq)` \n",
    "This method can be used to upsample the number of points in a stationary location. This is used to account for specific data collection methods that don't take samples if the research participant hasn't moved locations. This is beneficial when used with the density based clustering techniques defined below.\n",
    "* freq - is a given interval as defined in the Pandas timeseries methods. Read more in the [Pandas Docs](https://pandas.pydata.org/pandas-docs/stable/timeseries.html)"
   ]
  },
  {
   "cell_type": "code",
   "execution_count": 7,
   "metadata": {
    "ExecuteTime": {
     "end_time": "2019-01-24T21:44:37.994518Z",
     "start_time": "2019-01-24T21:41:49.035378Z"
    }
   },
   "outputs": [
    {
     "name": "stderr",
     "output_type": "stream",
     "text": [
      "imputing coordinates: 100%|█████████████████████████████████████████████████████| 46927/46927 [01:17<00:00, 604.74it/s]\n",
      "processing metrics: 100%|███████████████████████████████████████████████████████| 47556/47556 [01:27<00:00, 546.21it/s]\n"
     ]
    },
    {
     "data": {
      "text/html": [
       "<div>\n",
       "<style scoped>\n",
       "    .dataframe tbody tr th:only-of-type {\n",
       "        vertical-align: middle;\n",
       "    }\n",
       "\n",
       "    .dataframe tbody tr th {\n",
       "        vertical-align: top;\n",
       "    }\n",
       "\n",
       "    .dataframe thead th {\n",
       "        text-align: right;\n",
       "    }\n",
       "</style>\n",
       "<table border=\"1\" class=\"dataframe\">\n",
       "  <thead>\n",
       "    <tr style=\"text-align: right;\">\n",
       "      <th></th>\n",
       "      <th>lat</th>\n",
       "      <th>lon</th>\n",
       "      <th>ts</th>\n",
       "      <th>displacement</th>\n",
       "      <th>time_delta</th>\n",
       "      <th>velocity</th>\n",
       "      <th>binning</th>\n",
       "      <th>date</th>\n",
       "    </tr>\n",
       "  </thead>\n",
       "  <tbody>\n",
       "    <tr>\n",
       "      <th>0</th>\n",
       "      <td>45.50473</td>\n",
       "      <td>-122.78290</td>\n",
       "      <td>2015-06-01 00:01:00</td>\n",
       "      <td>NaN</td>\n",
       "      <td>NaN</td>\n",
       "      <td>NaN</td>\n",
       "      <td>null</td>\n",
       "      <td>2015-06-01</td>\n",
       "    </tr>\n",
       "    <tr>\n",
       "      <th>1</th>\n",
       "      <td>45.50473</td>\n",
       "      <td>-122.78290</td>\n",
       "      <td>2015-06-01 00:02:00</td>\n",
       "      <td>0.0</td>\n",
       "      <td>60.0</td>\n",
       "      <td>0.000</td>\n",
       "      <td>stationary</td>\n",
       "      <td>2015-06-01</td>\n",
       "    </tr>\n",
       "    <tr>\n",
       "      <th>2</th>\n",
       "      <td>45.50471</td>\n",
       "      <td>-122.78284</td>\n",
       "      <td>2015-06-01 00:03:00</td>\n",
       "      <td>5.2</td>\n",
       "      <td>60.0</td>\n",
       "      <td>0.086</td>\n",
       "      <td>stationary</td>\n",
       "      <td>2015-06-01</td>\n",
       "    </tr>\n",
       "    <tr>\n",
       "      <th>3</th>\n",
       "      <td>45.50471</td>\n",
       "      <td>-122.78284</td>\n",
       "      <td>2015-06-01 00:07:00</td>\n",
       "      <td>0.0</td>\n",
       "      <td>240.0</td>\n",
       "      <td>0.000</td>\n",
       "      <td>stationary</td>\n",
       "      <td>2015-06-01</td>\n",
       "    </tr>\n",
       "    <tr>\n",
       "      <th>4</th>\n",
       "      <td>45.50469</td>\n",
       "      <td>-122.78291</td>\n",
       "      <td>2015-06-01 00:09:00</td>\n",
       "      <td>5.9</td>\n",
       "      <td>120.0</td>\n",
       "      <td>0.049</td>\n",
       "      <td>stationary</td>\n",
       "      <td>2015-06-01</td>\n",
       "    </tr>\n",
       "  </tbody>\n",
       "</table>\n",
       "</div>"
      ],
      "text/plain": [
       "        lat        lon                   ts  displacement  time_delta  \\\n",
       "0  45.50473 -122.78290  2015-06-01 00:01:00           NaN         NaN   \n",
       "1  45.50473 -122.78290  2015-06-01 00:02:00           0.0        60.0   \n",
       "2  45.50471 -122.78284  2015-06-01 00:03:00           5.2        60.0   \n",
       "3  45.50471 -122.78284  2015-06-01 00:07:00           0.0       240.0   \n",
       "4  45.50469 -122.78291  2015-06-01 00:09:00           5.9       120.0   \n",
       "\n",
       "   velocity     binning        date  \n",
       "0       NaN        null  2015-06-01  \n",
       "1     0.000  stationary  2015-06-01  \n",
       "2     0.086  stationary  2015-06-01  \n",
       "3     0.000  stationary  2015-06-01  \n",
       "4     0.049  stationary  2015-06-01  "
      ]
     },
     "execution_count": 7,
     "metadata": {},
     "output_type": "execute_result"
    }
   ],
   "source": [
    "df = gps.impute_stationary_coordinates(df, freq='10Min')\n",
    "df.head()"
   ]
  },
  {
   "cell_type": "markdown",
   "metadata": {},
   "source": [
    "### Clustering"
   ]
  },
  {
   "cell_type": "markdown",
   "metadata": {},
   "source": [
    "#### `get_clusters_with_context(records)`\n",
    "Again, this takes the same arguments as above.  This method partitions the records into three sets - home, work, and everything else. Then, performs separate clustering on each partition. Two variables are returned. The first is the records with an additional row assigning cluster cids, and the second is the clusters themselves.\n",
    "\n",
    "This function utilizes the unsupervised clustering algorithm DBSCAN and the provided records. Parameters should be a dict and contain both min_samples and eps. See the [scikit-learn docs](http://scikit-learn.org/stable/modules/generated/sklearn.cluster.DBSCAN.html) for more information. Default parameters will be used if none are supplied. However, these parameters were tuned to generalize well on a specific dataset and I recommend doing the same. Some good sources for tuning DBSCAN hyperparameters are:\n",
    "\n",
    "* x\n",
    "* y"
   ]
  },
  {
   "cell_type": "code",
   "execution_count": 8,
   "metadata": {
    "ExecuteTime": {
     "end_time": "2019-01-24T21:45:08.553187Z",
     "start_time": "2019-01-24T21:44:50.059962Z"
    }
   },
   "outputs": [
    {
     "data": {
      "text/html": [
       "<div>\n",
       "<style scoped>\n",
       "    .dataframe tbody tr th:only-of-type {\n",
       "        vertical-align: middle;\n",
       "    }\n",
       "\n",
       "    .dataframe tbody tr th {\n",
       "        vertical-align: top;\n",
       "    }\n",
       "\n",
       "    .dataframe thead th {\n",
       "        text-align: right;\n",
       "    }\n",
       "</style>\n",
       "<table border=\"1\" class=\"dataframe\">\n",
       "  <thead>\n",
       "    <tr style=\"text-align: right;\">\n",
       "      <th></th>\n",
       "      <th>lat</th>\n",
       "      <th>lon</th>\n",
       "      <th>ts</th>\n",
       "      <th>displacement</th>\n",
       "      <th>time_delta</th>\n",
       "      <th>velocity</th>\n",
       "      <th>binning</th>\n",
       "      <th>date</th>\n",
       "      <th>cid</th>\n",
       "      <th>distance_from_home</th>\n",
       "    </tr>\n",
       "  </thead>\n",
       "  <tbody>\n",
       "    <tr>\n",
       "      <th>0</th>\n",
       "      <td>45.50473</td>\n",
       "      <td>-122.78290</td>\n",
       "      <td>2015-06-01 00:01:00</td>\n",
       "      <td>NaN</td>\n",
       "      <td>NaN</td>\n",
       "      <td>NaN</td>\n",
       "      <td>null</td>\n",
       "      <td>2015-06-01</td>\n",
       "      <td>xNot</td>\n",
       "      <td>4.515553</td>\n",
       "    </tr>\n",
       "    <tr>\n",
       "      <th>0</th>\n",
       "      <td>45.50473</td>\n",
       "      <td>-122.78290</td>\n",
       "      <td>2015-06-01 00:02:00</td>\n",
       "      <td>0.0</td>\n",
       "      <td>60.0</td>\n",
       "      <td>0.000</td>\n",
       "      <td>stationary</td>\n",
       "      <td>2015-06-01</td>\n",
       "      <td>home</td>\n",
       "      <td>4.515553</td>\n",
       "    </tr>\n",
       "    <tr>\n",
       "      <th>1</th>\n",
       "      <td>45.50471</td>\n",
       "      <td>-122.78284</td>\n",
       "      <td>2015-06-01 00:03:00</td>\n",
       "      <td>5.2</td>\n",
       "      <td>60.0</td>\n",
       "      <td>0.086</td>\n",
       "      <td>stationary</td>\n",
       "      <td>2015-06-01</td>\n",
       "      <td>home</td>\n",
       "      <td>8.618027</td>\n",
       "    </tr>\n",
       "    <tr>\n",
       "      <th>2</th>\n",
       "      <td>45.50471</td>\n",
       "      <td>-122.78284</td>\n",
       "      <td>2015-06-01 00:07:00</td>\n",
       "      <td>0.0</td>\n",
       "      <td>240.0</td>\n",
       "      <td>0.000</td>\n",
       "      <td>stationary</td>\n",
       "      <td>2015-06-01</td>\n",
       "      <td>home</td>\n",
       "      <td>8.618027</td>\n",
       "    </tr>\n",
       "    <tr>\n",
       "      <th>3</th>\n",
       "      <td>45.50469</td>\n",
       "      <td>-122.78291</td>\n",
       "      <td>2015-06-01 00:09:00</td>\n",
       "      <td>5.9</td>\n",
       "      <td>120.0</td>\n",
       "      <td>0.049</td>\n",
       "      <td>stationary</td>\n",
       "      <td>2015-06-01</td>\n",
       "      <td>home</td>\n",
       "      <td>8.895594</td>\n",
       "    </tr>\n",
       "  </tbody>\n",
       "</table>\n",
       "</div>"
      ],
      "text/plain": [
       "        lat        lon                   ts  displacement  time_delta  \\\n",
       "0  45.50473 -122.78290  2015-06-01 00:01:00           NaN         NaN   \n",
       "0  45.50473 -122.78290  2015-06-01 00:02:00           0.0        60.0   \n",
       "1  45.50471 -122.78284  2015-06-01 00:03:00           5.2        60.0   \n",
       "2  45.50471 -122.78284  2015-06-01 00:07:00           0.0       240.0   \n",
       "3  45.50469 -122.78291  2015-06-01 00:09:00           5.9       120.0   \n",
       "\n",
       "   velocity     binning        date   cid  distance_from_home  \n",
       "0       NaN        null  2015-06-01  xNot            4.515553  \n",
       "0     0.000  stationary  2015-06-01  home            4.515553  \n",
       "1     0.086  stationary  2015-06-01  home            8.618027  \n",
       "2     0.000  stationary  2015-06-01  home            8.618027  \n",
       "3     0.049  stationary  2015-06-01  home            8.895594  "
      ]
     },
     "execution_count": 8,
     "metadata": {},
     "output_type": "execute_result"
    }
   ],
   "source": [
    "df, clusters = gps.get_clusters_with_context(df)\n",
    "df.head()"
   ]
  },
  {
   "cell_type": "code",
   "execution_count": 9,
   "metadata": {
    "ExecuteTime": {
     "end_time": "2019-01-24T21:45:08.672827Z",
     "start_time": "2019-01-24T21:45:08.663560Z"
    }
   },
   "outputs": [
    {
     "data": {
      "text/html": [
       "<div>\n",
       "<style scoped>\n",
       "    .dataframe tbody tr th:only-of-type {\n",
       "        vertical-align: middle;\n",
       "    }\n",
       "\n",
       "    .dataframe tbody tr th {\n",
       "        vertical-align: top;\n",
       "    }\n",
       "\n",
       "    .dataframe thead th {\n",
       "        text-align: right;\n",
       "    }\n",
       "</style>\n",
       "<table border=\"1\" class=\"dataframe\">\n",
       "  <thead>\n",
       "    <tr style=\"text-align: right;\">\n",
       "      <th></th>\n",
       "      <th>lat</th>\n",
       "      <th>lon</th>\n",
       "      <th>cid</th>\n",
       "      <th>name</th>\n",
       "      <th>categories</th>\n",
       "    </tr>\n",
       "  </thead>\n",
       "  <tbody>\n",
       "    <tr>\n",
       "      <th>18</th>\n",
       "      <td>45.50477</td>\n",
       "      <td>-122.78291</td>\n",
       "      <td>home</td>\n",
       "      <td>home</td>\n",
       "      <td>home</td>\n",
       "    </tr>\n",
       "    <tr>\n",
       "      <th>19</th>\n",
       "      <td>45.51163</td>\n",
       "      <td>-122.68454</td>\n",
       "      <td>work</td>\n",
       "      <td>work</td>\n",
       "      <td>work</td>\n",
       "    </tr>\n",
       "    <tr>\n",
       "      <th>0</th>\n",
       "      <td>45.51224</td>\n",
       "      <td>-122.68435</td>\n",
       "      <td>x0</td>\n",
       "      <td>nap</td>\n",
       "      <td>nap</td>\n",
       "    </tr>\n",
       "    <tr>\n",
       "      <th>1</th>\n",
       "      <td>45.54832</td>\n",
       "      <td>-122.65123</td>\n",
       "      <td>x1</td>\n",
       "      <td>nap</td>\n",
       "      <td>nap</td>\n",
       "    </tr>\n",
       "    <tr>\n",
       "      <th>10</th>\n",
       "      <td>45.46099</td>\n",
       "      <td>-122.70129</td>\n",
       "      <td>x10</td>\n",
       "      <td>nap</td>\n",
       "      <td>nap</td>\n",
       "    </tr>\n",
       "  </tbody>\n",
       "</table>\n",
       "</div>"
      ],
      "text/plain": [
       "         lat        lon   cid  name categories\n",
       "18  45.50477 -122.78291  home  home       home\n",
       "19  45.51163 -122.68454  work  work       work\n",
       "0   45.51224 -122.68435    x0   nap        nap\n",
       "1   45.54832 -122.65123    x1   nap        nap\n",
       "10  45.46099 -122.70129   x10   nap        nap"
      ]
     },
     "execution_count": 9,
     "metadata": {},
     "output_type": "execute_result"
    }
   ],
   "source": [
    "clusters = clusters.sort_values(by='cid')\n",
    "clusters.head()"
   ]
  },
  {
   "cell_type": "markdown",
   "metadata": {},
   "source": [
    "### Place lookup"
   ]
  },
  {
   "cell_type": "markdown",
   "metadata": {},
   "source": [
    "The place methods are currently built to allow calls to either Yelp or Google for contextual lookup. Both are processed via the same call and require either to be given with in the form of a list of `gps.PlaceRequest`. Each request is cached to a backend sqlite file so that the same request doesn't have to be submitted more than once. Results are returned a dictionary containing three keys:\n",
    "1. `hits` tells you how many of your requests were returned from the cache\n",
    "2. `misses` tells you how many went through the API endpoint \n",
    "3. `request` is a dataframe of the resulting places\n",
    "\n",
    "An enum is implemented within the gps module that allows easy selection of an API source. The possibilities are: \n",
    "1. `gps.ApiSource.YELP` \n",
    "2. `gps.ApiSource.GOOGLE`\n",
    "\n",
    "With either, a value for `rankby` should also be supplied.  For Google, only prominence is currently implemented - `gps.GmapsRankBy.PROMINENCE`. A number of options are available for Yelp:\n",
    "* `gps.YelpRankBy.BEST_MATCH`\n",
    "* `gps.YelpRankBy.RATING`\n",
    "* `gps.YelpRankBy.REVIEW_COUNT`\n",
    "* `gps.YelpRankBy.DISTANCE`"
   ]
  },
  {
   "cell_type": "markdown",
   "metadata": {},
   "source": [
    "#### `request_nearby_places(request)`"
   ]
  },
  {
   "cell_type": "code",
   "execution_count": 10,
   "metadata": {
    "ExecuteTime": {
     "end_time": "2019-01-24T21:47:26.815811Z",
     "start_time": "2019-01-24T21:47:11.305966Z"
    }
   },
   "outputs": [
    {
     "name": "stdout",
     "output_type": "stream",
     "text": [
      "C:\\Users\\calvi\\OneDrive\\Documents\\thesi\\gSCAP\\.gscapConfig\n"
     ]
    },
    {
     "data": {
      "text/html": [
       "<div>\n",
       "<style scoped>\n",
       "    .dataframe tbody tr th:only-of-type {\n",
       "        vertical-align: middle;\n",
       "    }\n",
       "\n",
       "    .dataframe tbody tr th {\n",
       "        vertical-align: top;\n",
       "    }\n",
       "\n",
       "    .dataframe thead th {\n",
       "        text-align: right;\n",
       "    }\n",
       "</style>\n",
       "<table border=\"1\" class=\"dataframe\">\n",
       "  <thead>\n",
       "    <tr style=\"text-align: right;\">\n",
       "      <th></th>\n",
       "      <th>lat</th>\n",
       "      <th>lon</th>\n",
       "      <th>radius</th>\n",
       "      <th>source</th>\n",
       "      <th>dtRetrieved</th>\n",
       "      <th>name</th>\n",
       "      <th>rank_order</th>\n",
       "      <th>categories</th>\n",
       "      <th>major_categories</th>\n",
       "    </tr>\n",
       "  </thead>\n",
       "  <tbody>\n",
       "    <tr>\n",
       "      <th>0</th>\n",
       "      <td>45.51224</td>\n",
       "      <td>-122.68435</td>\n",
       "      <td>50</td>\n",
       "      <td>Yelp</td>\n",
       "      <td>2022-02-20 18:12:13.693806</td>\n",
       "      <td>Farewell to Orpheus</td>\n",
       "      <td>0.0</td>\n",
       "      <td>landmarks</td>\n",
       "      <td>government_offices</td>\n",
       "    </tr>\n",
       "  </tbody>\n",
       "</table>\n",
       "</div>"
      ],
      "text/plain": [
       "        lat        lon  radius source                dtRetrieved  \\\n",
       "0  45.51224 -122.68435      50   Yelp 2022-02-20 18:12:13.693806   \n",
       "\n",
       "                  name  rank_order categories    major_categories  \n",
       "0  Farewell to Orpheus         0.0  landmarks  government_offices  "
      ]
     },
     "execution_count": 10,
     "metadata": {},
     "output_type": "execute_result"
    }
   ],
   "source": [
    "xone = list(clusters.loc[clusters.cid=='x0'].itertuples())[0]\n",
    "request = gps.PlaceRequest(\n",
    "    lat=xone.lat,\n",
    "    lon=xone.lon, \n",
    "    radius=50, \n",
    "    source=gps.ApiSource.YELP,\n",
    "    rankby=gps.YelpRankBy.BEST_MATCH,\n",
    ")\n",
    "results = gps.request_nearby_places(request)\n",
    "results['request']"
   ]
  },
  {
   "cell_type": "markdown",
   "metadata": {},
   "source": [
    "### Gathering metrics"
   ]
  },
  {
   "cell_type": "markdown",
   "metadata": {},
   "source": [
    "#### `get_cluster_times(records, clusters)`\n",
    "Calculates daily entry and exit times a research participant makes into their defined clusters."
   ]
  },
  {
   "cell_type": "code",
   "execution_count": null,
   "metadata": {
    "ExecuteTime": {
     "end_time": "2019-01-24T21:46:37.740814Z",
     "start_time": "2019-01-24T21:46:15.758866Z"
    }
   },
   "outputs": [],
   "source": [
    "entries = gps.get_cluster_times(df)\n",
    "entries.head()"
   ]
  },
  {
   "cell_type": "markdown",
   "metadata": {},
   "source": [
    "#### `get_daily_metrics(records, entries)`\n",
    "Uses the records set and  daily features"
   ]
  },
  {
   "cell_type": "code",
   "execution_count": null,
   "metadata": {
    "ExecuteTime": {
     "end_time": "2019-01-24T21:46:39.502198Z",
     "start_time": "2019-01-24T21:46:37.932911Z"
    }
   },
   "outputs": [],
   "source": [
    "daily_metrics = gps.get_daily_metrics(df)\n",
    "daily_metrics.head()"
   ]
  },
  {
   "cell_type": "markdown",
   "metadata": {},
   "source": [
    "### Miscellaneous"
   ]
  },
  {
   "cell_type": "markdown",
   "metadata": {},
   "source": [
    "`dd_from_zip(zipcode)`. This method allows you to get a latitude and longitude pair by providing a zipcode."
   ]
  },
  {
   "cell_type": "code",
   "execution_count": null,
   "metadata": {
    "ExecuteTime": {
     "end_time": "2019-01-24T21:46:39.785953Z",
     "start_time": "2019-01-24T21:46:39.780067Z"
    }
   },
   "outputs": [],
   "source": [
    "gps.dd_from_zip(47579)"
   ]
  },
  {
   "cell_type": "markdown",
   "metadata": {},
   "source": [
    "`zip_from_dd(lat, lon)`. provides the opposite conversion - from lat, lon back to a zipcode."
   ]
  },
  {
   "cell_type": "code",
   "execution_count": null,
   "metadata": {
    "ExecuteTime": {
     "end_time": "2019-01-24T21:46:40.077114Z",
     "start_time": "2019-01-24T21:46:40.070934Z"
    }
   },
   "outputs": [],
   "source": [
    "gps.zip_from_dd(32.3788, -84.90685)"
   ]
  },
  {
   "cell_type": "markdown",
   "metadata": {},
   "source": [
    "Another extremely useful method is to get the Pandas timezone from a lat, lon pair or zipcode. This functionality is provided with `tz_from_zip` and `tz_from_dd`."
   ]
  },
  {
   "cell_type": "code",
   "execution_count": null,
   "metadata": {
    "ExecuteTime": {
     "end_time": "2019-01-24T21:46:40.371385Z",
     "start_time": "2019-01-24T21:46:40.363243Z"
    },
    "scrolled": true
   },
   "outputs": [],
   "source": [
    "gps.tz_from_dd((32.3788, -84.90685))\n",
    "gps.tz_from_zip(98115)"
   ]
  },
  {
   "cell_type": "markdown",
   "metadata": {},
   "source": [
    "Often you want to process entire columns of lat, lon pairs from a dataframe at once."
   ]
  },
  {
   "cell_type": "code",
   "execution_count": null,
   "metadata": {
    "ExecuteTime": {
     "end_time": "2019-01-24T21:46:49.927660Z",
     "start_time": "2019-01-24T21:46:40.656904Z"
    }
   },
   "outputs": [],
   "source": [
    "gps.tz_from_dd(df[['lat', 'lon']])"
   ]
  },
  {
   "cell_type": "markdown",
   "metadata": {},
   "source": [
    "This also works for a series of zipcodes."
   ]
  },
  {
   "cell_type": "code",
   "execution_count": null,
   "metadata": {
    "ExecuteTime": {
     "end_time": "2019-01-24T21:46:50.202629Z",
     "start_time": "2019-01-24T21:46:50.195586Z"
    },
    "scrolled": true
   },
   "outputs": [],
   "source": [
    "gps.tz_from_zip([47579, 98115, 2345])"
   ]
  },
  {
   "cell_type": "markdown",
   "metadata": {},
   "source": [
    "#### `geo_distance(lat1, lon1, lat2, lon2)` \n",
    "Computes the geographic distance in meters between two latitude, longitude pairs."
   ]
  },
  {
   "cell_type": "code",
   "execution_count": null,
   "metadata": {
    "ExecuteTime": {
     "end_time": "2019-01-24T21:46:50.475539Z",
     "start_time": "2019-01-24T21:46:50.471825Z"
    }
   },
   "outputs": [],
   "source": [
    "pair1 = (47.1, 122.1)\n",
    "pair2 = (47.2, 122.2)\n",
    "\n",
    "gps.geo_distance(*pair1, *pair2)"
   ]
  },
  {
   "cell_type": "markdown",
   "metadata": {},
   "source": [
    "#### `geo_pairwise_distances(x, n_jobs)`\n",
    "Accepts a list of coordinate pairs and computes the pairwise geographic distance between each pair. Set `n_jobs` to -1 to use all available cores."
   ]
  },
  {
   "cell_type": "code",
   "execution_count": null,
   "metadata": {
    "ExecuteTime": {
     "end_time": "2019-01-24T21:46:52.503020Z",
     "start_time": "2019-01-24T21:46:50.750899Z"
    }
   },
   "outputs": [],
   "source": [
    "x = [\n",
    "    (47.111, 122), \n",
    "    (47.112, 122),\n",
    "    (47.113, 122)\n",
    "]\n",
    "\n",
    "gps.geo_pairwise_distances(x, as_array=True, n_jobs=-1)"
   ]
  },
  {
   "cell_type": "code",
   "execution_count": null,
   "metadata": {},
   "outputs": [],
   "source": []
  },
  {
   "cell_type": "code",
   "execution_count": null,
   "metadata": {},
   "outputs": [],
   "source": []
  },
  {
   "cell_type": "code",
   "execution_count": null,
   "metadata": {},
   "outputs": [],
   "source": []
  }
 ],
 "metadata": {
  "kernelspec": {
   "display_name": "Python gSCAP",
   "language": "python",
   "name": "gscap"
  },
  "language_info": {
   "codemirror_mode": {
    "name": "ipython",
    "version": 3
   },
   "file_extension": ".py",
   "mimetype": "text/x-python",
   "name": "python",
   "nbconvert_exporter": "python",
   "pygments_lexer": "ipython3",
   "version": "3.10.0"
  },
  "varInspector": {
   "cols": {
    "lenName": 16,
    "lenType": 16,
    "lenVar": 40
   },
   "kernels_config": {
    "python": {
     "delete_cmd_postfix": "",
     "delete_cmd_prefix": "del ",
     "library": "var_list.py",
     "varRefreshCmd": "print(var_dic_list())"
    },
    "r": {
     "delete_cmd_postfix": ") ",
     "delete_cmd_prefix": "rm(",
     "library": "var_list.r",
     "varRefreshCmd": "cat(var_dic_list()) "
    }
   },
   "types_to_exclude": [
    "module",
    "function",
    "builtin_function_or_method",
    "instance",
    "_Feature"
   ],
   "window_display": false
  }
 },
 "nbformat": 4,
 "nbformat_minor": 1
}
