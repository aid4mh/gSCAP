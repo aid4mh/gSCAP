{
 "cells": [
  {
   "cell_type": "code",
   "execution_count": 1,
   "metadata": {
    "ExecuteTime": {
     "end_time": "2019-01-24T21:18:28.623561Z",
     "start_time": "2019-01-24T21:18:26.830398Z"
    }
   },
   "outputs": [],
   "source": [
    "# notebook setup\n",
    "import datetime as dt\n",
    "import os\n",
    "import sys\n",
    "from pathlib import Path\n",
    "p = Path().resolve().parents[1]\n",
    "sys.path.append(str(p))\n",
    "from IPython.core.interactiveshell import InteractiveShell\n",
    "import pandas as pd\n",
    "\n",
    "import gscap.weather as weather\n",
    "\n",
    "InteractiveShell.ast_node_interactivity = 'all'"
   ]
  },
  {
   "cell_type": "markdown",
   "metadata": {
    "ExecuteTime": {
     "end_time": "2018-08-11T05:46:51.068904Z",
     "start_time": "2018-08-11T05:46:51.066481Z"
    },
    "collapsed": true
   },
   "source": [
    "### Get a daily weather report by latitude and longitude"
   ]
  },
  {
   "cell_type": "code",
   "execution_count": 2,
   "metadata": {
    "ExecuteTime": {
     "end_time": "2019-01-24T21:18:29.402194Z",
     "start_time": "2019-01-24T21:18:28.671472Z"
    },
    "scrolled": false
   },
   "outputs": [
    {
     "data": {
      "text/plain": [
       "datetime.datetime(2022, 2, 20, 0, 0)"
      ]
     },
     "execution_count": 2,
     "metadata": {},
     "output_type": "execute_result"
    },
    {
     "name": "stdout",
     "output_type": "stream",
     "text": [
      "C:\\Users\\calvi\\OneDrive\\Documents\\thesi\\gSCAP\\.gscapConfig\n"
     ]
    },
    {
     "data": {
      "text/html": [
       "<div>\n",
       "<style scoped>\n",
       "    .dataframe tbody tr th:only-of-type {\n",
       "        vertical-align: middle;\n",
       "    }\n",
       "\n",
       "    .dataframe tbody tr th {\n",
       "        vertical-align: top;\n",
       "    }\n",
       "\n",
       "    .dataframe thead th {\n",
       "        text-align: right;\n",
       "    }\n",
       "</style>\n",
       "<table border=\"1\" class=\"dataframe\">\n",
       "  <thead>\n",
       "    <tr style=\"text-align: right;\">\n",
       "      <th></th>\n",
       "      <th>date</th>\n",
       "      <th>lat</th>\n",
       "      <th>lon</th>\n",
       "      <th>zipcode</th>\n",
       "      <th>base</th>\n",
       "      <th>visibility</th>\n",
       "      <th>dt</th>\n",
       "      <th>timezone</th>\n",
       "      <th>id</th>\n",
       "      <th>name</th>\n",
       "      <th>...</th>\n",
       "      <th>main_humidity</th>\n",
       "      <th>wind_speed</th>\n",
       "      <th>wind_deg</th>\n",
       "      <th>wind_gust</th>\n",
       "      <th>clouds_all</th>\n",
       "      <th>sys_type</th>\n",
       "      <th>sys_id</th>\n",
       "      <th>sys_country</th>\n",
       "      <th>sys_sunrise</th>\n",
       "      <th>sys_sunset</th>\n",
       "    </tr>\n",
       "  </thead>\n",
       "  <tbody>\n",
       "    <tr>\n",
       "      <th>0</th>\n",
       "      <td>2022-02-20</td>\n",
       "      <td>32.503082</td>\n",
       "      <td>-97.187339</td>\n",
       "      <td>76061</td>\n",
       "      <td>stations</td>\n",
       "      <td>10000</td>\n",
       "      <td>1645423174</td>\n",
       "      <td>-21600</td>\n",
       "      <td>4709013</td>\n",
       "      <td>Mansfield</td>\n",
       "      <td>...</td>\n",
       "      <td>78</td>\n",
       "      <td>5.66</td>\n",
       "      <td>170</td>\n",
       "      <td>7.72</td>\n",
       "      <td>0</td>\n",
       "      <td>2</td>\n",
       "      <td>2012737</td>\n",
       "      <td>US</td>\n",
       "      <td>1645362398</td>\n",
       "      <td>1645402718</td>\n",
       "    </tr>\n",
       "  </tbody>\n",
       "</table>\n",
       "<p>1 rows × 28 columns</p>\n",
       "</div>"
      ],
      "text/plain": [
       "        date        lat        lon  zipcode      base  visibility          dt  \\\n",
       "0 2022-02-20  32.503082 -97.187339    76061  stations       10000  1645423174   \n",
       "\n",
       "   timezone       id       name  ...  main_humidity  wind_speed  wind_deg  \\\n",
       "0    -21600  4709013  Mansfield  ...             78        5.66       170   \n",
       "\n",
       "   wind_gust  clouds_all  sys_type   sys_id  sys_country  sys_sunrise  \\\n",
       "0       7.72           0         2  2012737           US   1645362398   \n",
       "\n",
       "   sys_sunset  \n",
       "0  1645402718  \n",
       "\n",
       "[1 rows x 28 columns]"
      ]
     },
     "execution_count": 2,
     "metadata": {},
     "output_type": "execute_result"
    }
   ],
   "source": [
    "now = dt.datetime.now()\n",
    "today = dt.datetime(year=now.year, month=now.month, day=now.day); today\n",
    "\n",
    "report = weather.weather_report((32.503082, -97.187339, today))\n",
    "pd.DataFrame(report.get('report')).head()"
   ]
  },
  {
   "cell_type": "markdown",
   "metadata": {},
   "source": [
    "If you notice above, report comes back from the weather module as a dictionary. It contains three attributes: hits, misses, and the report itself. `hits` tells you how many times you were able to retrieve a request from the cache while `misses` tells you how many API calls were made. This is extremely valuable for tracking expenses. You can view them as shown in the next cell."
   ]
  },
  {
   "cell_type": "code",
   "execution_count": 3,
   "metadata": {
    "ExecuteTime": {
     "end_time": "2019-01-24T21:18:32.072921Z",
     "start_time": "2019-01-24T21:18:32.068212Z"
    }
   },
   "outputs": [
    {
     "data": {
      "text/plain": [
       "0"
      ]
     },
     "execution_count": 3,
     "metadata": {},
     "output_type": "execute_result"
    },
    {
     "data": {
      "text/plain": [
       "1"
      ]
     },
     "execution_count": 3,
     "metadata": {},
     "output_type": "execute_result"
    }
   ],
   "source": [
    "report['hits']\n",
    "report['misses']"
   ]
  },
  {
   "cell_type": "markdown",
   "metadata": {},
   "source": [
    "### Or get a report by zipcode"
   ]
  },
  {
   "cell_type": "code",
   "execution_count": 4,
   "metadata": {
    "ExecuteTime": {
     "end_time": "2019-01-24T21:18:35.065489Z",
     "start_time": "2019-01-24T21:18:34.232273Z"
    }
   },
   "outputs": [
    {
     "name": "stdout",
     "output_type": "stream",
     "text": [
      "C:\\Users\\calvi\\OneDrive\\Documents\\thesi\\gSCAP\\.gscapConfig\n"
     ]
    },
    {
     "data": {
      "text/html": [
       "<div>\n",
       "<style scoped>\n",
       "    .dataframe tbody tr th:only-of-type {\n",
       "        vertical-align: middle;\n",
       "    }\n",
       "\n",
       "    .dataframe tbody tr th {\n",
       "        vertical-align: top;\n",
       "    }\n",
       "\n",
       "    .dataframe thead th {\n",
       "        text-align: right;\n",
       "    }\n",
       "</style>\n",
       "<table border=\"1\" class=\"dataframe\">\n",
       "  <thead>\n",
       "    <tr style=\"text-align: right;\">\n",
       "      <th></th>\n",
       "      <th>date</th>\n",
       "      <th>lat</th>\n",
       "      <th>lon</th>\n",
       "      <th>zipcode</th>\n",
       "      <th>base</th>\n",
       "      <th>visibility</th>\n",
       "      <th>dt</th>\n",
       "      <th>timezone</th>\n",
       "      <th>id</th>\n",
       "      <th>name</th>\n",
       "      <th>...</th>\n",
       "      <th>main_humidity</th>\n",
       "      <th>wind_speed</th>\n",
       "      <th>wind_deg</th>\n",
       "      <th>wind_gust</th>\n",
       "      <th>clouds_all</th>\n",
       "      <th>sys_type</th>\n",
       "      <th>sys_id</th>\n",
       "      <th>sys_country</th>\n",
       "      <th>sys_sunrise</th>\n",
       "      <th>sys_sunset</th>\n",
       "    </tr>\n",
       "  </thead>\n",
       "  <tbody>\n",
       "    <tr>\n",
       "      <th>0</th>\n",
       "      <td>2022-02-20</td>\n",
       "      <td>32.95987</td>\n",
       "      <td>-97.14843</td>\n",
       "      <td>76092</td>\n",
       "      <td>stations</td>\n",
       "      <td>10000</td>\n",
       "      <td>1645423180</td>\n",
       "      <td>-21600</td>\n",
       "      <td>4733313</td>\n",
       "      <td>Southlake</td>\n",
       "      <td>...</td>\n",
       "      <td>75</td>\n",
       "      <td>4.02</td>\n",
       "      <td>161</td>\n",
       "      <td>7.6</td>\n",
       "      <td>100</td>\n",
       "      <td>2</td>\n",
       "      <td>2003388</td>\n",
       "      <td>US</td>\n",
       "      <td>1645362417</td>\n",
       "      <td>1645402680</td>\n",
       "    </tr>\n",
       "  </tbody>\n",
       "</table>\n",
       "<p>1 rows × 28 columns</p>\n",
       "</div>"
      ],
      "text/plain": [
       "        date       lat       lon  zipcode      base  visibility          dt  \\\n",
       "0 2022-02-20  32.95987 -97.14843    76092  stations       10000  1645423180   \n",
       "\n",
       "   timezone       id       name  ...  main_humidity  wind_speed  wind_deg  \\\n",
       "0    -21600  4733313  Southlake  ...             75        4.02       161   \n",
       "\n",
       "   wind_gust  clouds_all  sys_type   sys_id  sys_country  sys_sunrise  \\\n",
       "0        7.6         100         2  2003388           US   1645362417   \n",
       "\n",
       "   sys_sunset  \n",
       "0  1645402680  \n",
       "\n",
       "[1 rows x 28 columns]"
      ]
     },
     "execution_count": 4,
     "metadata": {},
     "output_type": "execute_result"
    }
   ],
   "source": [
    "report = weather.weather_report((today, 76092))\n",
    "pd.DataFrame(report.get('report')).head()"
   ]
  },
  {
   "cell_type": "markdown",
   "metadata": {},
   "source": [
    "### If you have a series of requests to make, just include a list of a requests. You can set `n_jobs` to use as many cores as you want. \n",
    "For example, the following request makes four simultaneous calls to Dark Sky retrieving daily weather summaries by zipcode or lat-lon pairs, and DateTimes in any order. The only order that must be maintained is that the latitude must come before the longitude."
   ]
  },
  {
   "cell_type": "code",
   "execution_count": 5,
   "metadata": {
    "ExecuteTime": {
     "end_time": "2019-01-24T21:18:42.078212Z",
     "start_time": "2019-01-24T21:18:39.235127Z"
    }
   },
   "outputs": [
    {
     "ename": "KeyboardInterrupt",
     "evalue": "",
     "output_type": "error",
     "traceback": [
      "\u001b[1;31m---------------------------------------------------------------------------\u001b[0m",
      "\u001b[1;31mKeyboardInterrupt\u001b[0m                         Traceback (most recent call last)",
      "Input \u001b[1;32mIn [5]\u001b[0m, in \u001b[0;36m<module>\u001b[1;34m\u001b[0m\n\u001b[0;32m      1\u001b[0m requests \u001b[38;5;241m=\u001b[39m [\n\u001b[0;32m      2\u001b[0m     (\u001b[38;5;241m34.11\u001b[39m, \u001b[38;5;241m-\u001b[39m\u001b[38;5;241m86.92\u001b[39m, today\u001b[38;5;241m-\u001b[39mdt\u001b[38;5;241m.\u001b[39mtimedelta(days\u001b[38;5;241m=\u001b[39m\u001b[38;5;241m4\u001b[39m)),\n\u001b[0;32m      3\u001b[0m     (today\u001b[38;5;241m-\u001b[39mdt\u001b[38;5;241m.\u001b[39mtimedelta(days\u001b[38;5;241m=\u001b[39m\u001b[38;5;241m3\u001b[39m), \u001b[38;5;241m38.11\u001b[39m, \u001b[38;5;241m-\u001b[39m\u001b[38;5;241m43.92\u001b[39m),\n\u001b[0;32m      4\u001b[0m     (\u001b[38;5;241m38.11\u001b[39m, today\u001b[38;5;241m-\u001b[39mdt\u001b[38;5;241m.\u001b[39mtimedelta(days\u001b[38;5;241m=\u001b[39m\u001b[38;5;241m4\u001b[39m), \u001b[38;5;241m-\u001b[39m\u001b[38;5;241m52.92\u001b[39m),\n\u001b[0;32m      5\u001b[0m ]\n\u001b[1;32m----> 7\u001b[0m report \u001b[38;5;241m=\u001b[39m \u001b[43mweather\u001b[49m\u001b[38;5;241;43m.\u001b[39;49m\u001b[43mweather_report\u001b[49m\u001b[43m(\u001b[49m\u001b[43mrequests\u001b[49m\u001b[43m)\u001b[49m\n\u001b[0;32m      9\u001b[0m pd\u001b[38;5;241m.\u001b[39mDataFrame(report\u001b[38;5;241m.\u001b[39mget(\u001b[38;5;124m'\u001b[39m\u001b[38;5;124mreport\u001b[39m\u001b[38;5;124m'\u001b[39m))\u001b[38;5;241m.\u001b[39mhead()\n\u001b[0;32m     10\u001b[0m \u001b[38;5;28mprint\u001b[39m(\u001b[38;5;124mf\u001b[39m\u001b[38;5;124m'\u001b[39m\u001b[38;5;124mhits: \u001b[39m\u001b[38;5;132;01m{\u001b[39;00mreport[\u001b[38;5;124m\"\u001b[39m\u001b[38;5;124mhits\u001b[39m\u001b[38;5;124m\"\u001b[39m]\u001b[38;5;132;01m}\u001b[39;00m\u001b[38;5;124m, misses: \u001b[39m\u001b[38;5;132;01m{\u001b[39;00mreport[\u001b[38;5;124m\"\u001b[39m\u001b[38;5;124mmisses\u001b[39m\u001b[38;5;124m\"\u001b[39m]\u001b[38;5;132;01m}\u001b[39;00m\u001b[38;5;124m'\u001b[39m)\n",
      "File \u001b[1;32m~\\OneDrive\\Documents\\thesi\\gSCAP\\gscap\\weather.py:274\u001b[0m, in \u001b[0;36mweather_report\u001b[1;34m(request, summarize, n_jobs, progress_qu, kwargs)\u001b[0m\n\u001b[0;32m    270\u001b[0m     request_qu\u001b[38;5;241m.\u001b[39mput(\u001b[38;5;28mdict\u001b[39m(\u001b[38;5;28mtype\u001b[39m\u001b[38;5;241m=\u001b[39m\u001b[38;5;124m'\u001b[39m\u001b[38;5;124mend\u001b[39m\u001b[38;5;124m'\u001b[39m))\n\u001b[0;32m    272\u001b[0m \u001b[38;5;66;03m# otherwise startup some parallel tasks\u001b[39;00m\n\u001b[0;32m    273\u001b[0m \u001b[38;5;28;01melse\u001b[39;00m:\n\u001b[1;32m--> 274\u001b[0m     results \u001b[38;5;241m=\u001b[39m \u001b[38;5;28mlist\u001b[39m(\u001b[43mpool\u001b[49m\u001b[38;5;241;43m.\u001b[39;49m\u001b[43mmap\u001b[49m\u001b[43m(\u001b[49m\n\u001b[0;32m    275\u001b[0m \u001b[43m        \u001b[49m\u001b[43mprocess_request\u001b[49m\u001b[43m,\u001b[49m\n\u001b[0;32m    276\u001b[0m \u001b[43m        \u001b[49m\u001b[43m[\u001b[49m\u001b[43m(\u001b[49m\u001b[43mri\u001b[49m\u001b[43m,\u001b[49m\u001b[43m \u001b[49m\u001b[43mprogress_qu\u001b[49m\u001b[43m,\u001b[49m\u001b[43m \u001b[49m\u001b[43mrequest_qu\u001b[49m\u001b[43m,\u001b[49m\u001b[43m \u001b[49m\u001b[43mresponse_qu\u001b[49m\u001b[43m)\u001b[49m\u001b[43m \u001b[49m\u001b[38;5;28;43;01mfor\u001b[39;49;00m\u001b[43m \u001b[49m\u001b[43mri\u001b[49m\u001b[43m \u001b[49m\u001b[38;5;129;43;01min\u001b[39;49;00m\u001b[43m \u001b[49m\u001b[43mrequest\u001b[49m\u001b[43m]\u001b[49m\n\u001b[0;32m    277\u001b[0m \u001b[43m    \u001b[49m\u001b[43m)\u001b[49m)\n\u001b[0;32m    278\u001b[0m     request_qu\u001b[38;5;241m.\u001b[39mput(\u001b[38;5;28mdict\u001b[39m(\u001b[38;5;28mtype\u001b[39m\u001b[38;5;241m=\u001b[39m\u001b[38;5;124m'\u001b[39m\u001b[38;5;124mend\u001b[39m\u001b[38;5;124m'\u001b[39m))\n\u001b[0;32m    280\u001b[0m \u001b[38;5;28;01mif\u001b[39;00m summarize \u001b[38;5;129;01min\u001b[39;00m [\u001b[38;5;124m'\u001b[39m\u001b[38;5;124mdaily\u001b[39m\u001b[38;5;124m'\u001b[39m]:\n",
      "File \u001b[1;32m~\\anaconda3\\envs\\gSCAP\\lib\\multiprocessing\\pool.py:364\u001b[0m, in \u001b[0;36mPool.map\u001b[1;34m(self, func, iterable, chunksize)\u001b[0m\n\u001b[0;32m    359\u001b[0m \u001b[38;5;28;01mdef\u001b[39;00m \u001b[38;5;21mmap\u001b[39m(\u001b[38;5;28mself\u001b[39m, func, iterable, chunksize\u001b[38;5;241m=\u001b[39m\u001b[38;5;28;01mNone\u001b[39;00m):\n\u001b[0;32m    360\u001b[0m     \u001b[38;5;124;03m'''\u001b[39;00m\n\u001b[0;32m    361\u001b[0m \u001b[38;5;124;03m    Apply `func` to each element in `iterable`, collecting the results\u001b[39;00m\n\u001b[0;32m    362\u001b[0m \u001b[38;5;124;03m    in a list that is returned.\u001b[39;00m\n\u001b[0;32m    363\u001b[0m \u001b[38;5;124;03m    '''\u001b[39;00m\n\u001b[1;32m--> 364\u001b[0m     \u001b[38;5;28;01mreturn\u001b[39;00m \u001b[38;5;28;43mself\u001b[39;49m\u001b[38;5;241;43m.\u001b[39;49m\u001b[43m_map_async\u001b[49m\u001b[43m(\u001b[49m\u001b[43mfunc\u001b[49m\u001b[43m,\u001b[49m\u001b[43m \u001b[49m\u001b[43miterable\u001b[49m\u001b[43m,\u001b[49m\u001b[43m \u001b[49m\u001b[43mmapstar\u001b[49m\u001b[43m,\u001b[49m\u001b[43m \u001b[49m\u001b[43mchunksize\u001b[49m\u001b[43m)\u001b[49m\u001b[38;5;241;43m.\u001b[39;49m\u001b[43mget\u001b[49m\u001b[43m(\u001b[49m\u001b[43m)\u001b[49m\n",
      "File \u001b[1;32m~\\anaconda3\\envs\\gSCAP\\lib\\multiprocessing\\pool.py:765\u001b[0m, in \u001b[0;36mApplyResult.get\u001b[1;34m(self, timeout)\u001b[0m\n\u001b[0;32m    764\u001b[0m \u001b[38;5;28;01mdef\u001b[39;00m \u001b[38;5;21mget\u001b[39m(\u001b[38;5;28mself\u001b[39m, timeout\u001b[38;5;241m=\u001b[39m\u001b[38;5;28;01mNone\u001b[39;00m):\n\u001b[1;32m--> 765\u001b[0m     \u001b[38;5;28;43mself\u001b[39;49m\u001b[38;5;241;43m.\u001b[39;49m\u001b[43mwait\u001b[49m\u001b[43m(\u001b[49m\u001b[43mtimeout\u001b[49m\u001b[43m)\u001b[49m\n\u001b[0;32m    766\u001b[0m     \u001b[38;5;28;01mif\u001b[39;00m \u001b[38;5;129;01mnot\u001b[39;00m \u001b[38;5;28mself\u001b[39m\u001b[38;5;241m.\u001b[39mready():\n\u001b[0;32m    767\u001b[0m         \u001b[38;5;28;01mraise\u001b[39;00m \u001b[38;5;167;01mTimeoutError\u001b[39;00m\n",
      "File \u001b[1;32m~\\anaconda3\\envs\\gSCAP\\lib\\multiprocessing\\pool.py:762\u001b[0m, in \u001b[0;36mApplyResult.wait\u001b[1;34m(self, timeout)\u001b[0m\n\u001b[0;32m    761\u001b[0m \u001b[38;5;28;01mdef\u001b[39;00m \u001b[38;5;21mwait\u001b[39m(\u001b[38;5;28mself\u001b[39m, timeout\u001b[38;5;241m=\u001b[39m\u001b[38;5;28;01mNone\u001b[39;00m):\n\u001b[1;32m--> 762\u001b[0m     \u001b[38;5;28;43mself\u001b[39;49m\u001b[38;5;241;43m.\u001b[39;49m\u001b[43m_event\u001b[49m\u001b[38;5;241;43m.\u001b[39;49m\u001b[43mwait\u001b[49m\u001b[43m(\u001b[49m\u001b[43mtimeout\u001b[49m\u001b[43m)\u001b[49m\n",
      "File \u001b[1;32m~\\anaconda3\\envs\\gSCAP\\lib\\threading.py:600\u001b[0m, in \u001b[0;36mEvent.wait\u001b[1;34m(self, timeout)\u001b[0m\n\u001b[0;32m    598\u001b[0m signaled \u001b[38;5;241m=\u001b[39m \u001b[38;5;28mself\u001b[39m\u001b[38;5;241m.\u001b[39m_flag\n\u001b[0;32m    599\u001b[0m \u001b[38;5;28;01mif\u001b[39;00m \u001b[38;5;129;01mnot\u001b[39;00m signaled:\n\u001b[1;32m--> 600\u001b[0m     signaled \u001b[38;5;241m=\u001b[39m \u001b[38;5;28;43mself\u001b[39;49m\u001b[38;5;241;43m.\u001b[39;49m\u001b[43m_cond\u001b[49m\u001b[38;5;241;43m.\u001b[39;49m\u001b[43mwait\u001b[49m\u001b[43m(\u001b[49m\u001b[43mtimeout\u001b[49m\u001b[43m)\u001b[49m\n\u001b[0;32m    601\u001b[0m \u001b[38;5;28;01mreturn\u001b[39;00m signaled\n",
      "File \u001b[1;32m~\\anaconda3\\envs\\gSCAP\\lib\\threading.py:320\u001b[0m, in \u001b[0;36mCondition.wait\u001b[1;34m(self, timeout)\u001b[0m\n\u001b[0;32m    318\u001b[0m \u001b[38;5;28;01mtry\u001b[39;00m:    \u001b[38;5;66;03m# restore state no matter what (e.g., KeyboardInterrupt)\u001b[39;00m\n\u001b[0;32m    319\u001b[0m     \u001b[38;5;28;01mif\u001b[39;00m timeout \u001b[38;5;129;01mis\u001b[39;00m \u001b[38;5;28;01mNone\u001b[39;00m:\n\u001b[1;32m--> 320\u001b[0m         \u001b[43mwaiter\u001b[49m\u001b[38;5;241;43m.\u001b[39;49m\u001b[43macquire\u001b[49m\u001b[43m(\u001b[49m\u001b[43m)\u001b[49m\n\u001b[0;32m    321\u001b[0m         gotit \u001b[38;5;241m=\u001b[39m \u001b[38;5;28;01mTrue\u001b[39;00m\n\u001b[0;32m    322\u001b[0m     \u001b[38;5;28;01melse\u001b[39;00m:\n",
      "\u001b[1;31mKeyboardInterrupt\u001b[0m: "
     ]
    }
   ],
   "source": [
    "requests = [\n",
    "    (34.11, -86.92, today-dt.timedelta(days=4)),\n",
    "    (today-dt.timedelta(days=3), 32.11, -43.92),\n",
    "    (38.11, today-dt.timedelta(days=4), -52.92),\n",
    "]\n",
    "\n",
    "report = weather.weather_report(requests)\n",
    "\n",
    "pd.DataFrame(report.get('report')).head()\n",
    "print(f'hits: {report[\"hits\"]}, misses: {report[\"misses\"]}')"
   ]
  },
  {
   "cell_type": "markdown",
   "metadata": {},
   "source": [
    "### The default summarization is at the daily level as shown above. To return the results at they hourly level set `summarize = 'none'`"
   ]
  },
  {
   "cell_type": "code",
   "execution_count": null,
   "metadata": {
    "ExecuteTime": {
     "end_time": "2019-01-24T21:18:48.620100Z",
     "start_time": "2019-01-24T21:18:48.179961Z"
    }
   },
   "outputs": [],
   "source": [
    "report = weather.weather_report(requests, summarize='none')\n",
    "report = pd.DataFrame(report.get('report'))\n",
    "report.head(50)"
   ]
  }
 ],
 "metadata": {
  "kernelspec": {
   "display_name": "Python gSCAP",
   "language": "python",
   "name": "gscap"
  },
  "language_info": {
   "codemirror_mode": {
    "name": "ipython",
    "version": 3
   },
   "file_extension": ".py",
   "mimetype": "text/x-python",
   "name": "python",
   "nbconvert_exporter": "python",
   "pygments_lexer": "ipython3",
   "version": "3.10.0"
  },
  "varInspector": {
   "cols": {
    "lenName": 16,
    "lenType": 16,
    "lenVar": 40
   },
   "kernels_config": {
    "python": {
     "delete_cmd_postfix": "",
     "delete_cmd_prefix": "del ",
     "library": "var_list.py",
     "varRefreshCmd": "print(var_dic_list())"
    },
    "r": {
     "delete_cmd_postfix": ") ",
     "delete_cmd_prefix": "rm(",
     "library": "var_list.r",
     "varRefreshCmd": "cat(var_dic_list()) "
    }
   },
   "types_to_exclude": [
    "module",
    "function",
    "builtin_function_or_method",
    "instance",
    "_Feature"
   ],
   "window_display": false
  }
 },
 "nbformat": 4,
 "nbformat_minor": 1
}
