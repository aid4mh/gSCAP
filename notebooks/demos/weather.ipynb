{
 "cells": [
  {
   "cell_type": "code",
   "execution_count": 1,
   "metadata": {
    "ExecuteTime": {
     "end_time": "2019-01-24T21:18:28.623561Z",
     "start_time": "2019-01-24T21:18:26.830398Z"
    }
   },
   "outputs": [],
   "source": [
    "# notebook setup\n",
    "import datetime as dt\n",
    "import os\n",
    "import sys\n",
    "from pathlib import Path\n",
    "p = Path().resolve().parents[1]\n",
    "sys.path.append(str(p))\n",
    "from IPython.core.interactiveshell import InteractiveShell\n",
    "import pandas as pd\n",
    "\n",
    "import gscap.weather as weather\n",
    "\n",
    "InteractiveShell.ast_node_interactivity = 'all'"
   ]
  },
  {
   "cell_type": "markdown",
   "metadata": {
    "ExecuteTime": {
     "end_time": "2018-08-11T05:46:51.068904Z",
     "start_time": "2018-08-11T05:46:51.066481Z"
    },
    "collapsed": true
   },
   "source": [
    "### Get a daily weather report by latitude and longitude"
   ]
  },
  {
   "cell_type": "code",
   "execution_count": 2,
   "metadata": {
    "ExecuteTime": {
     "end_time": "2019-01-24T21:18:29.402194Z",
     "start_time": "2019-01-24T21:18:28.671472Z"
    },
    "scrolled": false
   },
   "outputs": [
    {
     "data": {
      "text/plain": [
       "datetime.datetime(2022, 2, 20, 0, 0)"
      ]
     },
     "execution_count": 2,
     "metadata": {},
     "output_type": "execute_result"
    },
    {
     "name": "stdout",
     "output_type": "stream",
     "text": [
      "C:\\Users\\calvi\\OneDrive\\Documents\\thesi\\gSCAP\\.gscapConfig\n"
     ]
    },
    {
     "data": {
      "text/html": [
       "<div>\n",
       "<style scoped>\n",
       "    .dataframe tbody tr th:only-of-type {\n",
       "        vertical-align: middle;\n",
       "    }\n",
       "\n",
       "    .dataframe tbody tr th {\n",
       "        vertical-align: top;\n",
       "    }\n",
       "\n",
       "    .dataframe thead th {\n",
       "        text-align: right;\n",
       "    }\n",
       "</style>\n",
       "<table border=\"1\" class=\"dataframe\">\n",
       "  <thead>\n",
       "    <tr style=\"text-align: right;\">\n",
       "      <th></th>\n",
       "      <th>date</th>\n",
       "      <th>lat</th>\n",
       "      <th>lon</th>\n",
       "      <th>zipcode</th>\n",
       "      <th>base</th>\n",
       "      <th>visibility</th>\n",
       "      <th>dt</th>\n",
       "      <th>timezone</th>\n",
       "      <th>id</th>\n",
       "      <th>name</th>\n",
       "      <th>...</th>\n",
       "      <th>main_humidity</th>\n",
       "      <th>wind_speed</th>\n",
       "      <th>wind_deg</th>\n",
       "      <th>wind_gust</th>\n",
       "      <th>clouds_all</th>\n",
       "      <th>sys_type</th>\n",
       "      <th>sys_id</th>\n",
       "      <th>sys_country</th>\n",
       "      <th>sys_sunrise</th>\n",
       "      <th>sys_sunset</th>\n",
       "    </tr>\n",
       "  </thead>\n",
       "  <tbody>\n",
       "    <tr>\n",
       "      <th>0</th>\n",
       "      <td>2022-02-20</td>\n",
       "      <td>32.503082</td>\n",
       "      <td>-97.187339</td>\n",
       "      <td>76061</td>\n",
       "      <td>NaN</td>\n",
       "      <td>10000</td>\n",
       "      <td>1645418190</td>\n",
       "      <td>-21600</td>\n",
       "      <td>4709013</td>\n",
       "      <td>NaN</td>\n",
       "      <td>...</td>\n",
       "      <td>72</td>\n",
       "      <td>7.2</td>\n",
       "      <td>160</td>\n",
       "      <td>9.77</td>\n",
       "      <td>0</td>\n",
       "      <td>2</td>\n",
       "      <td>2012737</td>\n",
       "      <td>NaN</td>\n",
       "      <td>1645362398</td>\n",
       "      <td>1645402718</td>\n",
       "    </tr>\n",
       "  </tbody>\n",
       "</table>\n",
       "<p>1 rows × 28 columns</p>\n",
       "</div>"
      ],
      "text/plain": [
       "        date        lat        lon  zipcode  base  visibility          dt  \\\n",
       "0 2022-02-20  32.503082 -97.187339    76061   NaN       10000  1645418190   \n",
       "\n",
       "   timezone       id  name  ...  main_humidity  wind_speed  wind_deg  \\\n",
       "0    -21600  4709013   NaN  ...             72         7.2       160   \n",
       "\n",
       "   wind_gust  clouds_all  sys_type   sys_id  sys_country  sys_sunrise  \\\n",
       "0       9.77           0         2  2012737          NaN   1645362398   \n",
       "\n",
       "   sys_sunset  \n",
       "0  1645402718  \n",
       "\n",
       "[1 rows x 28 columns]"
      ]
     },
     "execution_count": 2,
     "metadata": {},
     "output_type": "execute_result"
    }
   ],
   "source": [
    "now = dt.datetime.now()\n",
    "today = dt.datetime(year=now.year, month=now.month, day=now.day); today\n",
    "\n",
    "report = weather.weather_report((32.503082, -97.187339, today))\n",
    "pd.DataFrame(report.get('report')).head()"
   ]
  },
  {
   "cell_type": "markdown",
   "metadata": {},
   "source": [
    "If you notice above, report comes back from the weather module as a dictionary. It contains three attributes: hits, misses, and the report itself. `hits` tells you how many times you were able to retrieve a request from the cache while `misses` tells you how many API calls were made. This is extremely valuable for tracking expenses. You can view them as shown in the next cell."
   ]
  },
  {
   "cell_type": "code",
   "execution_count": 3,
   "metadata": {
    "ExecuteTime": {
     "end_time": "2019-01-24T21:18:32.072921Z",
     "start_time": "2019-01-24T21:18:32.068212Z"
    }
   },
   "outputs": [
    {
     "data": {
      "text/plain": [
       "0"
      ]
     },
     "execution_count": 3,
     "metadata": {},
     "output_type": "execute_result"
    },
    {
     "data": {
      "text/plain": [
       "1"
      ]
     },
     "execution_count": 3,
     "metadata": {},
     "output_type": "execute_result"
    }
   ],
   "source": [
    "report['hits']\n",
    "report['misses']"
   ]
  },
  {
   "cell_type": "markdown",
   "metadata": {},
   "source": [
    "### Or get a report by zipcode"
   ]
  },
  {
   "cell_type": "code",
   "execution_count": 4,
   "metadata": {
    "ExecuteTime": {
     "end_time": "2019-01-24T21:18:35.065489Z",
     "start_time": "2019-01-24T21:18:34.232273Z"
    }
   },
   "outputs": [
    {
     "name": "stdout",
     "output_type": "stream",
     "text": [
      "C:\\Users\\calvi\\OneDrive\\Documents\\thesi\\gSCAP\\.gscapConfig\n"
     ]
    },
    {
     "data": {
      "text/html": [
       "<div>\n",
       "<style scoped>\n",
       "    .dataframe tbody tr th:only-of-type {\n",
       "        vertical-align: middle;\n",
       "    }\n",
       "\n",
       "    .dataframe tbody tr th {\n",
       "        vertical-align: top;\n",
       "    }\n",
       "\n",
       "    .dataframe thead th {\n",
       "        text-align: right;\n",
       "    }\n",
       "</style>\n",
       "<table border=\"1\" class=\"dataframe\">\n",
       "  <thead>\n",
       "    <tr style=\"text-align: right;\">\n",
       "      <th></th>\n",
       "      <th>date</th>\n",
       "      <th>lat</th>\n",
       "      <th>lon</th>\n",
       "      <th>zipcode</th>\n",
       "      <th>base</th>\n",
       "      <th>visibility</th>\n",
       "      <th>dt</th>\n",
       "      <th>timezone</th>\n",
       "      <th>id</th>\n",
       "      <th>name</th>\n",
       "      <th>...</th>\n",
       "      <th>main_pressure</th>\n",
       "      <th>main_humidity</th>\n",
       "      <th>wind_speed</th>\n",
       "      <th>wind_deg</th>\n",
       "      <th>clouds_all</th>\n",
       "      <th>sys_type</th>\n",
       "      <th>sys_id</th>\n",
       "      <th>sys_country</th>\n",
       "      <th>sys_sunrise</th>\n",
       "      <th>sys_sunset</th>\n",
       "    </tr>\n",
       "  </thead>\n",
       "  <tbody>\n",
       "    <tr>\n",
       "      <th>0</th>\n",
       "      <td>2022-02-20</td>\n",
       "      <td>32.95987</td>\n",
       "      <td>-97.14843</td>\n",
       "      <td>76092</td>\n",
       "      <td>NaN</td>\n",
       "      <td>10000</td>\n",
       "      <td>1645418217</td>\n",
       "      <td>-21600</td>\n",
       "      <td>4733313</td>\n",
       "      <td>NaN</td>\n",
       "      <td>...</td>\n",
       "      <td>1014</td>\n",
       "      <td>69</td>\n",
       "      <td>6.69</td>\n",
       "      <td>170</td>\n",
       "      <td>75</td>\n",
       "      <td>2</td>\n",
       "      <td>2003388</td>\n",
       "      <td>NaN</td>\n",
       "      <td>1645362417</td>\n",
       "      <td>1645402680</td>\n",
       "    </tr>\n",
       "  </tbody>\n",
       "</table>\n",
       "<p>1 rows × 27 columns</p>\n",
       "</div>"
      ],
      "text/plain": [
       "        date       lat       lon  zipcode  base  visibility          dt  \\\n",
       "0 2022-02-20  32.95987 -97.14843    76092   NaN       10000  1645418217   \n",
       "\n",
       "   timezone       id  name  ...  main_pressure  main_humidity  wind_speed  \\\n",
       "0    -21600  4733313   NaN  ...           1014             69        6.69   \n",
       "\n",
       "   wind_deg  clouds_all  sys_type   sys_id  sys_country  sys_sunrise  \\\n",
       "0       170          75         2  2003388          NaN   1645362417   \n",
       "\n",
       "   sys_sunset  \n",
       "0  1645402680  \n",
       "\n",
       "[1 rows x 27 columns]"
      ]
     },
     "execution_count": 4,
     "metadata": {},
     "output_type": "execute_result"
    }
   ],
   "source": [
    "report = weather.weather_report((today, 76092))\n",
    "pd.DataFrame(report.get('report')).head()"
   ]
  },
  {
   "cell_type": "markdown",
   "metadata": {},
   "source": [
    "### If you have a series of requests to make, just include a list of a requests. You can set `n_jobs` to use as many cores as you want. \n",
    "For example, the following request makes four simultaneous calls to Dark Sky retrieving daily weather summaries by zipcode or lat-lon pairs, and DateTimes in any order. The only order that must be maintained is that the latitude must come before the longitude."
   ]
  },
  {
   "cell_type": "code",
   "execution_count": null,
   "metadata": {
    "ExecuteTime": {
     "end_time": "2019-01-24T21:18:42.078212Z",
     "start_time": "2019-01-24T21:18:39.235127Z"
    }
   },
   "outputs": [],
   "source": [
    "requests = [\n",
    "    (today, 47579),\n",
    "    (47579, today-dt.timedelta(days=1)),\n",
    "    (38.11, -86.92, today-dt.timedelta(days=2)),\n",
    "    (today-dt.timedelta(days=3), 38.11, -86.92),\n",
    "    (38.11, today-dt.timedelta(days=4), -86.92),\n",
    "]\n",
    "\n",
    "report = weather.weather_report(requests)\n",
    "\n",
    "pd.DataFrame(report.get('report')).head()\n",
    "print(f'hits: {report[\"hits\"]}, misses: {report[\"misses\"]}')"
   ]
  },
  {
   "cell_type": "markdown",
   "metadata": {},
   "source": [
    "### The default summarization is at the daily level as shown above. To return the results at they hourly level set `summarize = 'none'`"
   ]
  },
  {
   "cell_type": "code",
   "execution_count": null,
   "metadata": {
    "ExecuteTime": {
     "end_time": "2019-01-24T21:18:48.620100Z",
     "start_time": "2019-01-24T21:18:48.179961Z"
    }
   },
   "outputs": [],
   "source": [
    "report = weather.weather_report(requests, summarize='none')\n",
    "report = pd.DataFrame(report.get('report'))\n",
    "report.head(50)"
   ]
  }
 ],
 "metadata": {
  "kernelspec": {
   "display_name": "Python gSCAP",
   "language": "python",
   "name": "gscap"
  },
  "language_info": {
   "codemirror_mode": {
    "name": "ipython",
    "version": 3
   },
   "file_extension": ".py",
   "mimetype": "text/x-python",
   "name": "python",
   "nbconvert_exporter": "python",
   "pygments_lexer": "ipython3",
   "version": "3.10.0"
  },
  "varInspector": {
   "cols": {
    "lenName": 16,
    "lenType": 16,
    "lenVar": 40
   },
   "kernels_config": {
    "python": {
     "delete_cmd_postfix": "",
     "delete_cmd_prefix": "del ",
     "library": "var_list.py",
     "varRefreshCmd": "print(var_dic_list())"
    },
    "r": {
     "delete_cmd_postfix": ") ",
     "delete_cmd_prefix": "rm(",
     "library": "var_list.r",
     "varRefreshCmd": "cat(var_dic_list()) "
    }
   },
   "types_to_exclude": [
    "module",
    "function",
    "builtin_function_or_method",
    "instance",
    "_Feature"
   ],
   "window_display": false
  }
 },
 "nbformat": 4,
 "nbformat_minor": 1
}
